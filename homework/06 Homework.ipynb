{
 "cells": [
  {
   "cell_type": "markdown",
   "metadata": {
    "id": "P6xk2_jLsvFF"
   },
   "source": [
    "# [作業目標]\n",
    "\n",
    "1. [簡答題] 請問下列這三種方法有什麼不同？\n",
    "\n",
    "```\n",
    "print(a.sum()) \n",
    "print(np.sum(a))\n",
    "print(sum(a)) \n",
    "```\n",
    "\n",
    "2. 請對一個 5x5 的隨機矩陣作正規化的操作。\n",
    "\n",
    "3. 請建立一個長度等於 10 的正整數向量，並且將其中的最大值改成 -1。\n"
   ]
  },
  {
   "cell_type": "markdown",
   "metadata": {
    "id": "uXGll28asvFS"
   },
   "source": [
    "# 作業 "
   ]
  },
  {
   "cell_type": "markdown",
   "metadata": {
    "id": "lbz8VjL6jxyL"
   },
   "source": [
    "### 1. [簡答題] 請問下列這三種方法有什麼不同？\n",
    "\n",
    "```\n",
    "print(a.sum()) \n",
    "print(np.sum(a))\n",
    "print(sum(a)) \n",
    "```\n",
    "\n"
   ]
  },
  {
   "cell_type": "code",
   "execution_count": 1,
   "metadata": {
    "id": "5QrYoyNWsvFS",
    "outputId": "e9e14d36-38ce-4ce5-edf2-3c7b129db580"
   },
   "outputs": [
    {
     "name": "stdout",
     "output_type": "stream",
     "text": [
      "15\n",
      "15\n",
      "15\n"
     ]
    }
   ],
   "source": [
    "import numpy as np\n",
    "a = np.arange(6)\n",
    "\n",
    "print(a.sum())  #統計方法\n",
    "print(np.sum(a)) #同上\n",
    "print(sum(a)) #用軸去做加總\n"
   ]
  },
  {
   "cell_type": "markdown",
   "metadata": {
    "id": "vVrjBXabjxyS"
   },
   "source": [
    "### 2. 請對一個 5x5 的隨機矩陣作正規化的操作。\n"
   ]
  },
  {
   "cell_type": "code",
   "execution_count": 2,
   "metadata": {
    "id": "ffDRVHs9jxyS"
   },
   "outputs": [],
   "source": [
    "# 記得先 Import 正確的套件\n",
    "\n",
    "import numpy as np"
   ]
  },
  {
   "cell_type": "code",
   "execution_count": 7,
   "metadata": {
    "id": "e1gVI0tvsvFY",
    "outputId": "43bf676f-fd04-4edf-c062-b5fe7fe1f4bf"
   },
   "outputs": [
    {
     "name": "stdout",
     "output_type": "stream",
     "text": [
      "[[0.85816842 0.02952366 0.70604349 0.90656762 0.89081725]\n",
      " [0.8076596  0.92090245 0.51025244 0.1719821  0.55591139]\n",
      " [0.98265407 0.19745044 0.41975918 0.33829643 0.40230384]\n",
      " [0.76293641 0.69439753 0.70856892 0.14213221 0.71075342]\n",
      " [0.5829286  0.78961086 0.71896224 0.34608019 0.2543969 ]]\n",
      "\n",
      "[[0.26917752 0.00926054 0.22146124 0.28435867 0.27941833]\n",
      " [0.25333467 0.28885501 0.16004841 0.05394479 0.17437003]\n",
      " [0.30822434 0.06193332 0.13166383 0.1061118  0.12618869]\n",
      " [0.23930656 0.2178083  0.22225338 0.04458192 0.22293858]\n",
      " [0.18284439 0.24767341 0.2255134  0.1085533  0.07979544]]\n"
     ]
    }
   ],
   "source": [
    "A = np.random.random((5, 5))\n",
    "print(A)\n",
    "print()\n",
    "print(A/np.linalg.norm(A))"
   ]
  },
  {
   "cell_type": "markdown",
   "metadata": {
    "id": "Ptc3ZrNQjxyU"
   },
   "source": [
    "### 3. 請建立一個長度等於 10 的正整數向量，並且將其中的最大值改成 -1。\n"
   ]
  },
  {
   "cell_type": "code",
   "execution_count": 13,
   "metadata": {
    "id": "Yu1kbLxojxyU",
    "outputId": "d323e754-178a-46ae-e15e-98275ae220dd"
   },
   "outputs": [
    {
     "name": "stdout",
     "output_type": "stream",
     "text": [
      "[0.89457774 0.48977171 0.55095333 0.22077192 0.91963094 0.23343391\n",
      " 0.6126276  0.48666371 0.27068522 0.69928992]\n",
      "[ 0.89457774  0.48977171  0.55095333  0.22077192 -1.          0.23343391\n",
      "  0.6126276   0.48666371  0.27068522  0.69928992]\n"
     ]
    }
   ],
   "source": [
    "a = np.random.random(10)\n",
    "print(a)\n",
    "a[a == np.max(a)] = -1\n",
    "print(a)"
   ]
  },
  {
   "cell_type": "markdown",
   "metadata": {},
   "source": [
    "# 延伸題"
   ]
  },
  {
   "cell_type": "markdown",
   "metadata": {
    "id": "IoPlZnZgjxyV"
   },
   "source": [
    "作業目標\n",
    "\n",
    "熟悉陣列維度轉換，並且會擷取需要資料\n",
    "\n",
    "作業重點\n",
    "\n",
    "使用reshap須注意order用法\n",
    "\n",
    "where可以運用邏輯條件擷取資料\n",
    "\n",
    "題目:\n",
    "\n",
    "1.將下列陣列(array1)，轉成維度為(5X6)的array，順序按列填充。(hint:order=\"F\")\n",
    "\n",
    "2.呈上題的array，找出被6除餘1的數的索引"
   ]
  },
  {
   "cell_type": "code",
   "execution_count": 3,
   "metadata": {
    "id": "V5bMfGR_jxyV"
   },
   "outputs": [],
   "source": [
    "import numpy as np"
   ]
  },
  {
   "cell_type": "code",
   "execution_count": 9,
   "metadata": {},
   "outputs": [
    {
     "data": {
      "text/plain": [
       "array([[ 0,  5, 10, 15, 20, 25],\n",
       "       [ 1,  6, 11, 16, 21, 26],\n",
       "       [ 2,  7, 12, 17, 22, 27],\n",
       "       [ 3,  8, 13, 18, 23, 28],\n",
       "       [ 4,  9, 14, 19, 24, 29]])"
      ]
     },
     "execution_count": 9,
     "metadata": {},
     "output_type": "execute_result"
    }
   ],
   "source": [
    "#1.將下列清單(list1)，轉成維度為(5X6)的array，順序按列填充。(hint:order=\"F\")\n",
    "array1 = np.array(range(30)).reshape((5, 6),order='F')\n",
    "array1"
   ]
  },
  {
   "cell_type": "code",
   "execution_count": 18,
   "metadata": {},
   "outputs": [
    {
     "data": {
      "text/plain": [
       "(array([0, 1, 2, 3, 4], dtype=int64), array([5, 0, 1, 2, 3], dtype=int64))"
      ]
     },
     "execution_count": 18,
     "metadata": {},
     "output_type": "execute_result"
    }
   ],
   "source": [
    "#2.呈上題的array，找出被6除餘1的數的索引\n",
    "np.where(array1%6==1)"
   ]
  },
  {
   "cell_type": "code",
   "execution_count": null,
   "metadata": {},
   "outputs": [],
   "source": []
  }
 ],
 "metadata": {
  "colab": {
   "name": "06 Homework_維元.ipynb",
   "provenance": []
  },
  "kernelspec": {
   "display_name": "Python 3",
   "language": "python",
   "name": "python3"
  },
  "language_info": {
   "codemirror_mode": {
    "name": "ipython",
    "version": 3
   },
   "file_extension": ".py",
   "mimetype": "text/x-python",
   "name": "python",
   "nbconvert_exporter": "python",
   "pygments_lexer": "ipython3",
   "version": "3.8.5"
  }
 },
 "nbformat": 4,
 "nbformat_minor": 1
}
